{
 "cells": [
  {
   "cell_type": "code",
   "execution_count": 21,
   "id": "0af391ab",
   "metadata": {},
   "outputs": [
    {
     "data": {
      "text/plain": [
       "86"
      ]
     },
     "execution_count": 21,
     "metadata": {},
     "output_type": "execute_result"
    }
   ],
   "source": [
    "import pandas as pd \n",
    "budget = pd.read_csv('C:/Users/linab/Downloads/budget_data.csv')\n",
    "\n",
    "#The total number of months included in the dataset\n",
    "len(budget.index)"
   ]
  },
  {
   "cell_type": "code",
   "execution_count": 26,
   "id": "26bdca4e",
   "metadata": {},
   "outputs": [
    {
     "data": {
      "text/plain": [
       "22564198"
      ]
     },
     "execution_count": 26,
     "metadata": {},
     "output_type": "execute_result"
    }
   ],
   "source": [
    "#The net total amount of \"Profit/Losses\" over the entire period\n",
    "budget['Profit/Losses'].sum()"
   ]
  },
  {
   "cell_type": "code",
   "execution_count": 98,
   "id": "9cec3295",
   "metadata": {},
   "outputs": [
    {
     "data": {
      "text/plain": [
       "-8311.105882352942"
      ]
     },
     "execution_count": 98,
     "metadata": {},
     "output_type": "execute_result"
    }
   ],
   "source": [
    "#The changes in \"Profit/Losses\" over the entire period, and then the average of those changes\n",
    "budget['Changes']= budget['Profit/Losses'].diff()\n",
    "budget.loc[:,'Formatted Changes']='$'+budget['Changes'].map('{:,.0f}'.format)\n",
    "budget['Changes'].mean()"
   ]
  },
  {
   "cell_type": "code",
   "execution_count": 133,
   "id": "b8ceafac",
   "metadata": {},
   "outputs": [
    {
     "name": "stdout",
     "output_type": "stream",
     "text": [
      "      Date    Changes\n",
      "79  Aug-16  1862002.0\n"
     ]
    }
   ],
   "source": [
    "#The greatest increase in profits (date and amount) over the entire period\n",
    "budget['Changes'].max()\n",
    "print(budget[['Date', 'Changes']][budget.Changes == budget.Changes.max()])"
   ]
  },
  {
   "cell_type": "code",
   "execution_count": 142,
   "id": "a59041a6",
   "metadata": {},
   "outputs": [
    {
     "name": "stdout",
     "output_type": "stream",
     "text": [
      "      Date    Changes\n",
      "49  Feb-14 -1825558.0\n"
     ]
    }
   ],
   "source": [
    "#The greatest decrease in profits (date and amount) over the entire period\n",
    "budget['Changes'].min()\n",
    "print(budget[['Date', 'Changes']][budget.Changes == budget.Changes.min()])"
   ]
  },
  {
   "cell_type": "code",
   "execution_count": 152,
   "id": "2a766327",
   "metadata": {},
   "outputs": [
    {
     "data": {
      "text/html": [
       "<div>\n",
       "<style scoped>\n",
       "    .dataframe tbody tr th:only-of-type {\n",
       "        vertical-align: middle;\n",
       "    }\n",
       "\n",
       "    .dataframe tbody tr th {\n",
       "        vertical-align: top;\n",
       "    }\n",
       "\n",
       "    .dataframe thead th {\n",
       "        text-align: right;\n",
       "    }\n",
       "</style>\n",
       "<table border=\"1\" class=\"dataframe\">\n",
       "  <thead>\n",
       "    <tr style=\"text-align: right;\">\n",
       "      <th></th>\n",
       "      <th>Date</th>\n",
       "      <th>Profit/Losses</th>\n",
       "      <th>Changes</th>\n",
       "      <th>Formatted Changes</th>\n",
       "    </tr>\n",
       "  </thead>\n",
       "  <tbody>\n",
       "    <tr>\n",
       "      <th>0</th>\n",
       "      <td>Jan-10</td>\n",
       "      <td>1088983.0</td>\n",
       "      <td>NaN</td>\n",
       "      <td>$nan</td>\n",
       "    </tr>\n",
       "    <tr>\n",
       "      <th>1</th>\n",
       "      <td>Feb-10</td>\n",
       "      <td>-354534.0</td>\n",
       "      <td>-1443517.0</td>\n",
       "      <td>$-1,443,517</td>\n",
       "    </tr>\n",
       "    <tr>\n",
       "      <th>2</th>\n",
       "      <td>Mar-10</td>\n",
       "      <td>276622.0</td>\n",
       "      <td>631156.0</td>\n",
       "      <td>$631,156</td>\n",
       "    </tr>\n",
       "    <tr>\n",
       "      <th>3</th>\n",
       "      <td>Apr-10</td>\n",
       "      <td>-728133.0</td>\n",
       "      <td>-1004755.0</td>\n",
       "      <td>$-1,004,755</td>\n",
       "    </tr>\n",
       "    <tr>\n",
       "      <th>4</th>\n",
       "      <td>May-10</td>\n",
       "      <td>852993.0</td>\n",
       "      <td>1581126.0</td>\n",
       "      <td>$1,581,126</td>\n",
       "    </tr>\n",
       "  </tbody>\n",
       "</table>\n",
       "</div>"
      ],
      "text/plain": [
       "     Date  Profit/Losses    Changes Formatted Changes\n",
       "0  Jan-10      1088983.0        NaN              $nan\n",
       "1  Feb-10      -354534.0 -1443517.0       $-1,443,517\n",
       "2  Mar-10       276622.0   631156.0          $631,156\n",
       "3  Apr-10      -728133.0 -1004755.0       $-1,004,755\n",
       "4  May-10       852993.0  1581126.0        $1,581,126"
      ]
     },
     "execution_count": 152,
     "metadata": {},
     "output_type": "execute_result"
    }
   ],
   "source": [
    "budget.loc['New Changes']= budget['Changes'].astype(float).map('{:,.2f}'.format)\n",
    "budget.head()"
   ]
  }
 ],
 "metadata": {
  "kernelspec": {
   "display_name": "Python 3 (ipykernel)",
   "language": "python",
   "name": "python3"
  },
  "language_info": {
   "codemirror_mode": {
    "name": "ipython",
    "version": 3
   },
   "file_extension": ".py",
   "mimetype": "text/x-python",
   "name": "python",
   "nbconvert_exporter": "python",
   "pygments_lexer": "ipython3",
   "version": "3.9.7"
  }
 },
 "nbformat": 4,
 "nbformat_minor": 5
}
